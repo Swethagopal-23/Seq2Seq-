{
 "cells": [
  {
   "cell_type": "code",
   "execution_count": 2,
   "metadata": {},
   "outputs": [],
   "source": [
    "import torch\n",
    "import torch.nn as nn\n",
    "import torch.optim as optim\n",
    "from torch.utils.data import Dataset, DataLoader\n",
    "import random\n",
    "import numpy as np\n",
    "import matplotlib.pyplot as plt"
   ]
  },
  {
   "cell_type": "code",
   "execution_count": 3,
   "metadata": {},
   "outputs": [],
   "source": [
    "# Generating dataset\n",
    "def create_dataset(samples, length, vocab):\n",
    "    dataset = []\n",
    "    for _ in range(samples):\n",
    "        source = [random.randint(1, vocab - 1) for _ in range(length)]\n",
    "        target = source[::-1]  #  reverse\n",
    "        dataset.append((source, target))\n",
    "    return dataset\n",
    "\n",
    "vocab_size = 20\n",
    "sequence_length = 10\n",
    "sample_size = 1000\n",
    "data_samples = create_dataset(sample_size, sequence_length, vocab_size)"
   ]
  },
  {
   "cell_type": "code",
   "execution_count": 4,
   "metadata": {},
   "outputs": [],
   "source": [
    "class ReversedSeqDataset(Dataset):\n",
    "    def __init__(self, dataset):\n",
    "        self.dataset = dataset\n",
    "\n",
    "    def __len__(self):\n",
    "        return len(self.dataset)\n",
    "\n",
    "    def __getitem__(self, index):\n",
    "        src, tgt = self.dataset[index]\n",
    "        return torch.tensor(src, dtype=torch.long), torch.tensor(tgt, dtype=torch.long)\n",
    "\n",
    "data_loader = DataLoader(ReversedSeqDataset(data_samples), batch_size=32, shuffle=True)\n"
   ]
  },
  {
   "cell_type": "code",
   "execution_count": 5,
   "metadata": {},
   "outputs": [],
   "source": [
    "class Attention_mechanism(nn.Module):\n",
    "    def __init__(self, hidden_dim):\n",
    "        super().__init__()\n",
    "        self.attn_layer = nn.Linear(hidden_dim * 2, hidden_dim)\n",
    "        self.score_vector = nn.Parameter(torch.rand(hidden_dim))\n",
    "\n",
    "    def forward(self, hidden_state, encoder_outputs):\n",
    "        repeat_hidden = hidden_state.repeat(encoder_outputs.size(1), 1, 1).transpose(0, 1)\n",
    "        combined = torch.cat((repeat_hidden, encoder_outputs), dim=2)\n",
    "        scores = torch.tanh(self.attn_layer(combined))\n",
    "        scores = scores @ self.score_vector\n",
    "        return torch.softmax(scores, dim=1).unsqueeze(1)"
   ]
  },
  {
   "cell_type": "code",
   "execution_count": 6,
   "metadata": {},
   "outputs": [],
   "source": [
    "class EncoderRNN(nn.Module):\n",
    "    def __init__(self, input_dim, embed_dim, hidden_dim, layers):\n",
    "        super().__init__()\n",
    "        self.embedding = nn.Embedding(input_dim, embed_dim)\n",
    "        self.rnn = nn.LSTM(embed_dim, hidden_dim, layers, batch_first=True)\n",
    "\n",
    "    def forward(self, inputs):\n",
    "        embedded = self.embedding(inputs)\n",
    "        outputs, (hidden, cell) = self.rnn(embedded)\n",
    "        return outputs, hidden, cell"
   ]
  },
  {
   "cell_type": "code",
   "execution_count": 7,
   "metadata": {},
   "outputs": [],
   "source": [
    "class DecoderRNN(nn.Module):\n",
    "    def __init__(self, output_dim, embed_dim, hidden_dim, layers, attention):\n",
    "        super().__init__()\n",
    "        self.attention = attention\n",
    "        self.embedding = nn.Embedding(output_dim, embed_dim)\n",
    "        self.rnn = nn.LSTM(hidden_dim + embed_dim, hidden_dim, layers, batch_first=True)\n",
    "        self.fc_out = nn.Linear(hidden_dim, output_dim)\n",
    "\n",
    "    def forward(self, inputs, hidden, cell, encoder_outputs):\n",
    "        inputs = inputs.unsqueeze(1)\n",
    "        embedded = self.embedding(inputs)\n",
    "        attn_weights = self.attention(hidden[-1], encoder_outputs)\n",
    "        context = attn_weights.bmm(encoder_outputs)\n",
    "        rnn_input = torch.cat((embedded, context), dim=2)\n",
    "        outputs, (hidden, cell) = self.rnn(rnn_input, (hidden, cell))\n",
    "        predictions = self.fc_out(outputs.squeeze(1))\n",
    "        return predictions, hidden, cell\n"
   ]
  },
  {
   "cell_type": "code",
   "execution_count": 8,
   "metadata": {},
   "outputs": [],
   "source": [
    "class Seq2SeqModel(nn.Module):\n",
    "    def __init__(self, encoder, decoder):\n",
    "        super().__init__()\n",
    "        self.encoder = encoder\n",
    "        self.decoder = decoder\n",
    "\n",
    "    def forward(self, src, tgt, teacher_forcing_ratio=0.6):\n",
    "        batch_size = src.size(0)\n",
    "        tgt_len = tgt.size(1)\n",
    "        tgt_vocab = self.decoder.fc_out.out_features\n",
    "\n",
    "        outputs = torch.zeros(batch_size, tgt_len, tgt_vocab)\n",
    "        encoder_outputs, hidden, cell = self.encoder(src)\n",
    "        input_token = tgt[:, 0]\n",
    "\n",
    "        for t in range(1, tgt_len):\n",
    "            output, hidden, cell = self.decoder(input_token, hidden, cell, encoder_outputs)\n",
    "            outputs[:, t, :] = output\n",
    "            top1 = output.argmax(1)\n",
    "            input_token = tgt[:, t] if random.random() < teacher_forcing_ratio else top1\n",
    "\n",
    "        return outputs"
   ]
  },
  {
   "cell_type": "code",
   "execution_count": 9,
   "metadata": {},
   "outputs": [],
   "source": [
    "# Define model hyperparameters\n",
    "embedding_dim = 256\n",
    "hidden_dim = 512\n",
    "num_layers = 2\n",
    "\n",
    "attention = Attention_mechanism(hidden_dim)\n",
    "encoder = EncoderRNN(vocab_size, embedding_dim, hidden_dim, num_layers)\n",
    "decoder = DecoderRNN(vocab_size, embedding_dim, hidden_dim, num_layers, attention)\n",
    "seq2seq = Seq2SeqModel(encoder, decoder)"
   ]
  },
  {
   "cell_type": "code",
   "execution_count": 10,
   "metadata": {},
   "outputs": [],
   "source": [
    "# Training setup\n",
    "loss_function = nn.CrossEntropyLoss()\n",
    "optimizer = optim.Adam(seq2seq.parameters(), lr=0.001)\n",
    "epochs = 10\n",
    "loss_history = []\n",
    "accuracy_history = []"
   ]
  },
  {
   "cell_type": "code",
   "execution_count": 11,
   "metadata": {},
   "outputs": [
    {
     "name": "stdout",
     "output_type": "stream",
     "text": [
      "Epoch 1/10, Loss: 2.5581, Accuracy: 0.1884\n",
      "Epoch 2/10, Loss: 1.9389, Accuracy: 0.3181\n",
      "Epoch 3/10, Loss: 1.4983, Accuracy: 0.4308\n",
      "Epoch 4/10, Loss: 1.0915, Accuracy: 0.5863\n",
      "Epoch 5/10, Loss: 0.7376, Accuracy: 0.7571\n",
      "Epoch 6/10, Loss: 0.6149, Accuracy: 0.7943\n",
      "Epoch 7/10, Loss: 0.2402, Accuracy: 0.9370\n",
      "Epoch 8/10, Loss: 0.1581, Accuracy: 0.9619\n",
      "Epoch 9/10, Loss: 0.0707, Accuracy: 0.9851\n",
      "Epoch 10/10, Loss: 0.0715, Accuracy: 0.9859\n"
     ]
    }
   ],
   "source": [
    "# Training setup\n",
    "loss_function = nn.CrossEntropyLoss()\n",
    "optimizer = optim.Adam(seq2seq.parameters(), lr=0.001)\n",
    "epochs = 10\n",
    "loss_history = []\n",
    "accuracy_history = []\n",
    "\n",
    "# Training loop\n",
    "for epoch in range(epochs):\n",
    "    seq2seq.train()\n",
    "    epoch_loss = 0\n",
    "    correct = 0\n",
    "    total = 0\n",
    "\n",
    "    for src, tgt in data_loader:\n",
    "        optimizer.zero_grad()\n",
    "        outputs = seq2seq(src, tgt)\n",
    "        outputs = outputs[:, 1:].reshape(-1, vocab_size)\n",
    "        tgt = tgt[:, 1:].reshape(-1)\n",
    "        \n",
    "        # Calculate loss\n",
    "        loss = loss_function(outputs, tgt)\n",
    "        loss.backward()\n",
    "        optimizer.step()\n",
    "        epoch_loss += loss.item()\n",
    "\n",
    "        # Calculate accuracy\n",
    "        predictions = outputs.argmax(1)\n",
    "        correct += (predictions == tgt).sum().item()\n",
    "        total += tgt.size(0)\n",
    "\n",
    "    accuracy = correct / total\n",
    "    accuracy_history.append(accuracy)\n",
    "    loss_history.append(epoch_loss / len(data_loader))\n",
    "    print(f\"Epoch {epoch+1}/{epochs}, Loss: {epoch_loss / len(data_loader):.4f}, Accuracy: {accuracy:.4f}\")\n"
   ]
  },
  {
   "cell_type": "code",
   "execution_count": 12,
   "metadata": {},
   "outputs": [
    {
     "data": {
      "text/plain": [
       "<matplotlib.legend.Legend at 0x19c5793d280>"
      ]
     },
     "execution_count": 12,
     "metadata": {},
     "output_type": "execute_result"
    },
    {
     "data": {
      "image/png": "[encoded data removed]",
      "text/plain": [
       "<Figure size 1200x600 with 1 Axes>"
      ]
     },
     "metadata": {},
     "output_type": "display_data"
    }
   ],
   "source": [
    "# Plot training loss\n",
    "plt.figure(figsize=(12, 6))\n",
    "plt.subplot(1, 2, 1)\n",
    "plt.plot(range(1, epochs + 1), loss_history, label='Training Loss', color='blue')\n",
    "plt.xlabel('Epochs')\n",
    "plt.ylabel('Loss')\n",
    "plt.title('Training Loss Over Epochs')\n",
    "plt.legend()"
   ]
  },
  {
   "cell_type": "code",
   "execution_count": 13,
   "metadata": {},
   "outputs": [
    {
     "data": {
      "image/png": "[encoded data removed]",
      "text/plain": [
       "<Figure size 640x480 with 1 Axes>"
      ]
     },
     "metadata": {},
     "output_type": "display_data"
    }
   ],
   "source": [
    "# Plot training accuracy\n",
    "plt.subplot(1, 2, 2)\n",
    "plt.plot(range(1, epochs + 1), accuracy_history, label='Training Accuracy', color='green')\n",
    "plt.xlabel('Epochs')\n",
    "plt.ylabel('Accuracy')\n",
    "plt.title('Training Accuracy Over Epochs')\n",
    "plt.legend()\n",
    "\n",
    "plt.tight_layout()\n",
    "plt.show()\n"
   ]
  },
  {
   "cell_type": "code",
   "execution_count": 14,
   "metadata": {},
   "outputs": [
    {
     "name": "stdout",
     "output_type": "stream",
     "text": [
      "Sample 1:\n",
      "Source Sequence: [11 11  1  9 15 14  3  6 13  7]\n",
      "Target Sequence: [13  6  3 14 15  9  1 11 11]\n",
      "Predicted Sequence: [13  6  3 14 15  9  1 11 11]\n",
      "--------------------------------------------------\n"
     ]
    }
   ],
   "source": [
    "# Model evaluation and sample predictions\n",
    "seq2seq.eval()  \n",
    "with torch.no_grad():\n",
    "    for i, (src, tgt) in enumerate(data_loader): \n",
    "\n",
    "        # Get model predictions\n",
    "        output = seq2seq(src, tgt, teacher_forcing_ratio=0) \n",
    "        output = output[:, 1:].reshape(-1, output.shape[2])  # Flatten output\n",
    "        tgt = tgt[:, 1:].reshape(-1)  # Flatten target\n",
    "\n",
    "        # Get the predicted token by taking the argmax of output\n",
    "        predictions = output.argmax(1).view(-1, sequence_length-1)\n",
    "        \n",
    "        # Print sample outputs\n",
    "        print(f'Sample {i + 1}:')\n",
    "        print(f'Source Sequence: {src[0].numpy()}')\n",
    "        print(f'Target Sequence: {tgt.view(-1, sequence_length-1)[0].numpy()}')\n",
    "        print(f'Predicted Sequence: {predictions[0].numpy()}')\n",
    "        print('-' * 50)  # Separator\n",
    "\n",
    "        # stop after the first batch to save time\n",
    "        if i == 0:\n",
    "            break\n"
   ]
  }
 ],
 "metadata": {
  "kernelspec": {
   "display_name": "Python 3",
   "language": "python",
   "name": "python3"
  },
  "language_info": {
   "codemirror_mode": {
    "name": "ipython",
    "version": 3
   },
   "file_extension": ".py",
   "mimetype": "text/x-python",
   "name": "python",
   "nbconvert_exporter": "python",
   "pygments_lexer": "ipython3",
   "version": "3.12.4"
  }
 },
 "nbformat": 4,
 "nbformat_minor": 2
}
